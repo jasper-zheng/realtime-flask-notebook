{
 "cells": [
  {
   "cell_type": "code",
   "execution_count": 1,
   "id": "481a0c98-34e5-491f-a2bd-3c27ae9f7620",
   "metadata": {},
   "outputs": [
    {
     "data": {
      "text/plain": [
       "'__main__'"
      ]
     },
     "execution_count": 1,
     "metadata": {},
     "output_type": "execute_result"
    }
   ],
   "source": [
    "__name__"
   ]
  },
  {
   "cell_type": "code",
   "execution_count": null,
   "id": "6695a56f-4436-4c3a-aacf-cc826ad4ee9e",
   "metadata": {},
   "outputs": [],
   "source": [
    "!pip install flask Flask-SocketIO Werkzeug"
   ]
  },
  {
   "cell_type": "code",
   "execution_count": 4,
   "id": "75aad7d0-5e6c-4262-9c06-a2c70ac2b27c",
   "metadata": {},
   "outputs": [],
   "source": [
    "from sys import stdout\n",
    "import logging\n",
    "\n",
    "from flask import Flask, render_template\n",
    "from flask_socketio import SocketIO, emit"
   ]
  },
  {
   "cell_type": "code",
   "execution_count": 9,
   "id": "a27c48e0-156c-4905-83a9-b99f61a43084",
   "metadata": {},
   "outputs": [],
   "source": [
    "log = logging.getLogger('werkzeug')\n",
    "log.setLevel(logging.ERROR)\n",
    "\n",
    "app = Flask(__name__)\n",
    "\n",
    "app.logger.addHandler(logging.StreamHandler(stdout))\n",
    "app.config['DEBUG'] = True\n",
    "socketio = SocketIO(app)"
   ]
  },
  {
   "cell_type": "code",
   "execution_count": null,
   "id": "2d380cc1-815c-422e-bc7e-1d797d182575",
   "metadata": {},
   "outputs": [],
   "source": []
  }
 ],
 "metadata": {
  "kernelspec": {
   "display_name": "Python 3 (ipykernel)",
   "language": "python",
   "name": "python3"
  },
  "language_info": {
   "codemirror_mode": {
    "name": "ipython",
    "version": 3
   },
   "file_extension": ".py",
   "mimetype": "text/x-python",
   "name": "python",
   "nbconvert_exporter": "python",
   "pygments_lexer": "ipython3",
   "version": "3.9.16"
  }
 },
 "nbformat": 4,
 "nbformat_minor": 5
}
